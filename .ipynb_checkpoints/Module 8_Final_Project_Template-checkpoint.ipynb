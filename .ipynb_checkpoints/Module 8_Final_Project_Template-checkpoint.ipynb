{
 "cells": [
  {
   "cell_type": "markdown",
   "metadata": {},
   "source": [
    "# ETL, Analysis, and Visualization\n",
    "\n",
    "**Nicolás Gallardo**"
   ]
  },
  {
   "cell_type": "markdown",
   "metadata": {},
   "source": [
    "# Index\n",
    "\n",
    "- [Abstract](#Abstract)\n",
    "- [1. Introduction](#1.-Introduction)\n",
    "- [2. Extract-Transform-Load](#2.-Extract-Transform-Load)\n",
    "    - [2.1 The ETL Process](#2.1-The-ETL-Process)\n",
    "    - [2.2 Data Exploration](#2.2-Data-Exploration)\n",
    "    - [2.3 Data Preparation](#2.3-Data-Preparation)\n",
    "    - [2.4 Read the Data Using Python](#2.4-Reading-the-Data-Using-Python)\n",
    "         - [2.4.1 Reading Sample Data](#2.4.1-Reading-Sample-Data)\n",
    "         - [2.4.2 Reading the MRST Data](#2.4.2-Reading-the-MRST-Data)\n",
    "    - [2.5 Writing an Installation Script](#2.5-Writing-an-Installation-Script)\n",
    "- [3. Analysis and Visualization](#3.-Project-Description)\n",
    "    - [3.1 Running Queries in MySQL Workbech](#3.1-Running-Queries-in-MySQL-Workbech)\n",
    "    - [3.2 Running Queries From Python](#3.2-Running-Queries-From-Python)\n",
    "    - [3.3 Explore Trends](#3.3-Explore-Trends)\n",
    "    - [3.4 Explore Percentage Change](#3.4-Explore-Percentage-Change)\n",
    "    - [3.5 Explore Rolling Time Windows](#3.5-Explore-Rolling-Time-Windows)\n",
    "- [Conclusion](#Conclusion)\n",
    "- [References](#References)"
   ]
  },
  {
   "cell_type": "markdown",
   "metadata": {},
   "source": [
    "[Back to top](#Index)\n",
    "\n",
    "\n",
    "##  Abstract\n",
    "\n",
    "This is a brief description (150 words or less) of your analysis and the results of your model. Complete this portion of the template after you are done working on your project."
   ]
  },
  {
   "cell_type": "markdown",
   "metadata": {},
   "source": [
    "[Back to top](#Index)\n",
    "\n",
    "\n",
    "## 1. Introduction\n",
    "\n",
    "Introduce your project using 300 words or less. Describe all the processes you followed to create your ETL, Analysis, and Visualization project. Start by summarizing the steps that you intend to perform and then elaborate on this section after you have completed your project."
   ]
  },
  {
   "cell_type": "markdown",
   "metadata": {},
   "source": [
    "[Back to top](#Index)\n",
    "\n",
    "## 2. Extract-Transform-Load\n",
    "\n",
    "For each of the sections below, include a description of the steps you followed. Whenever possible, include screenshots of your code or program windows to demonstrate your steps."
   ]
  },
  {
   "cell_type": "markdown",
   "metadata": {},
   "source": [
    "[Back to top](#Index)\n",
    "\n",
    "### 2.1 The ETL Process\n",
    "\n",
    "Describe, using your own words, the key steps to perform ETL on the provided MRTS dataset."
   ]
  },
  {
   "cell_type": "markdown",
   "metadata": {},
   "source": [
    "The key steps to perform ETL on the MRTS dataset are the following ones:\n",
    "\n",
    "- Extracting the dataset into a dataframe using Pandas library, specifically the *read_excel* function. \n",
    "- Transforming the data into a structure similar to a predefined table of a database, using Pandas dataframes. This way, the data can be loaded easily into the table with the type structures needed.\n",
    "- Loading the new transformed dataset into a database using a Python script."
   ]
  },
  {
   "cell_type": "markdown",
   "metadata": {},
   "source": [
    "[Back to top](#Index)\n",
    "\n",
    "### 2.2 Data Exploration\n",
    "\n",
    "Describe the MRTS dataset and the data that it contains. Feel free to do some research online to get more information about the dataset. This step is fundamental and it will help you with the development of your project."
   ]
  },
  {
   "cell_type": "markdown",
   "metadata": {},
   "source": [
    "This dataset is about the Monthly Retail Trade Sales of Food and Retail services from the US. The data is collected from the years 1992 to February 2021. This information comes officially from the webpage [Census](https://www.census.gov/), which is an agency of the U.S. Department of Commerce. \n",
    "\n",
    "The information contained in this dataset is of different Retail and Food sales for every month of the different years (except for 2021 which is not completed). The data is brought in million of dollars. It's also estimated and adjusted.\n",
    "\n",
    "The dataset can be checked in the file inside the following route: */data/mrtsales92-present.xls*"
   ]
  },
  {
   "cell_type": "markdown",
   "metadata": {},
   "source": [
    "[Back to top](#Index)\n",
    "\n",
    "### 2.3 Data Preparation\n",
    "\n",
    "Describe which modifications you want to perform on your dataset so that it’s ready for analysis. A few obvious ones are suggested in the video, but come up with at least one modification on your own as well.\n"
   ]
  },
  {
   "cell_type": "markdown",
   "metadata": {},
   "source": [
    "The main modification that was implemented in the data was to get all the data into a single sheet. The dataset used had all the information divided into many sheets, depending on the year. This is not very practical when loading into a table in the database. So, the most important step was getting all the information from all the years into just one big file.\n",
    "\n",
    "Another important step, was to get all the data cleaned, and just the information used into a CSV file. In other words, the only information that had to be loaded was the data itself, and the Excel file included a lot of notations titles that had to be removed. \n",
    "\n",
    "After getting the new dataset containing all the data within one page, another important steps were executed: removing NaN, ordering indexes, ordering format and type structure, etc. \n",
    "\n",
    "The whole extract and transformation steps can be found in the file */ETC(extraction-transformation.ipynb* which is a Jupyter Notebook dealing with all the steps commented."
   ]
  },
  {
   "cell_type": "markdown",
   "metadata": {},
   "source": [
    "[Back to top](#Index)\n",
    "\n",
    "### 2.4 Read the Data Using Python\n",
    "\n",
    "Describe briefly how Python can be used to read CSV files."
   ]
  },
  {
   "cell_type": "markdown",
   "metadata": {},
   "source": [
    "Python has a built-in function called open() which can be used to read different type of files (it also can be used to write into files). \n",
    "\n",
    "Then, the *CSV* library can be used to make the read of a CSV file easier."
   ]
  },
  {
   "cell_type": "markdown",
   "metadata": {},
   "source": [
    "[Back to top](#Index)\n",
    "\n",
    "### 2.4.1 Reading Sample Data\n",
    "\n",
    "Describe the sample dataset that you have defined to test your Python script to read CSV files and explain how you used Python to read it."
   ]
  },
  {
   "cell_type": "markdown",
   "metadata": {},
   "source": [
    "A sample data to test out the script was not used, instead, the transformed CSV file was implemented directly into the database. "
   ]
  },
  {
   "cell_type": "markdown",
   "metadata": {},
   "source": [
    "[Back to top](#Index)\n",
    "\n",
    "### 2.4.2 Reading the MRTS Data\n",
    "\n",
    "Describe how to read the MRTS CSV file using a Python script."
   ]
  },
  {
   "cell_type": "markdown",
   "metadata": {},
   "source": [
    "The data was read using the following script:\n",
    "\n",
    "\n",
    "```\n",
    "# The CSV file is read to load it into the database.\n",
    "with open(\"data/transformedmrtsales92-present.csv\", mode='r') as csv_data:\n",
    "    reader = csv.reader(csv_data, delimiter=',')\n",
    "```\n",
    "\n"
   ]
  },
  {
   "cell_type": "markdown",
   "metadata": {},
   "source": [
    "[Back to top](#Index)\n",
    "\n",
    "### 2.5 Writing an Installation Script\n",
    "\n",
    "Describe how you wrote a Python installation script to read your dataset in MySQL WorkBench."
   ]
  },
  {
   "cell_type": "markdown",
   "metadata": {},
   "source": [
    "The complete installation script to connect the database, create the table to use, read the CSV file and insert into the table the values of the CSV file was the following:\n",
    "\n",
    "import mysql.connector\n",
    "import csv\n",
    "\n",
    "```  \n",
    "# Connection is created with the database\n",
    "con = mysql.connector.connect(user='root', password='1234', host='localhost', database='mit')\n",
    "\t\n",
    "# A cursor is instanced\n",
    "cursor = con.cursor()\n",
    "\n",
    "# The table is dropped in case it exists.\n",
    "cursor.execute(\"DROP TABLE IF EXISTS MRTS\")\n",
    "\n",
    "# A query is written to create the table within the database.\n",
    "sql_query ='''CREATE TABLE MRTS(\n",
    "   id VARCHAR(25) NOT NULL,\n",
    "   id_group INT NOT NULL,\n",
    "   business_description VARCHAR(100),\n",
    "   date DATE NOT NULL,\n",
    "   sales INT NULL,\n",
    "   status VARCHAR(20) NOT NULL\n",
    "  )'''\n",
    "\n",
    "# The query is executed.\n",
    "cursor.execute(sql_query)\n",
    "print(\"Table created successfully\")\n",
    "\n",
    "cursor = con.cursor()\n",
    "\n",
    "# The CSV file is read to load it into the database.\n",
    "with open(\"data/transformedmrtsales92-present.csv\", mode='r') as csv_data:\n",
    "    reader = csv.reader(csv_data, delimiter=',')\n",
    "    # The header is ignored when uploaded into the database.\n",
    "    next(reader, None)\n",
    "    csv_data_list = list(reader)\n",
    "    for row in csv_data_list:\n",
    "      # The NaN values, converted by Pandas into an empty string, are specified as None values into the database.\n",
    "      for i in range(len(row)):\n",
    "          if row[i] == '':\n",
    "              row[i] = None        \n",
    "      # The query that inserts the dataset into the database is executed.\n",
    "      cursor.execute(\"\"\"\n",
    "                  INSERT INTO MRTS(\n",
    "                  id, id_group, business_description, date, sales, status)\n",
    "                  VALUES(%s,%s,%s,%s,%s,%s)\"\"\",\n",
    "                  (row[0], row[1], row[2], row[3], row[4], row[5]))\n",
    "con.commit()\n",
    "cursor.close()\n",
    "con.close()\n",
    "print(\"Done\")\n",
    "```\n",
    "\n",
    "The script can be found in the route */ETL(load).py*"
   ]
  },
  {
   "cell_type": "markdown",
   "metadata": {},
   "source": [
    "\n",
    "[Back to top](#Index)\n",
    "\n",
    "## 3. Analysis and Visualization\n",
    "\n",
    "For each of the sections below, make sure you include a description of the steps you followed. Whenever possible, include screenshots of your code or program windows to demonstrate your steps.\n",
    "\n",
    "Here, describe the differences, advantages, and disadvantages of running *queries* against your dataset using the MySQL Workbench or a Python environment."
   ]
  },
  {
   "cell_type": "markdown",
   "metadata": {},
   "source": [
    "[Back to top](#Index)\n",
    "\n",
    "### 3.1 Running Queries in MySQL Workbech\n",
    "\n",
    "Describe which *queries* you ran against the MRTS dataset in MySQL Workbench to verify that everything worked as expected."
   ]
  },
  {
   "cell_type": "markdown",
   "metadata": {},
   "source": [
    "The following queries were used to check if the data was loaded correctly:\n",
    "\n",
    "```\n",
    "USE mit;\n",
    "SELECT COUNT(*)\n",
    "FROM mrts;\n",
    "```\n",
    "This one was used to verify if all the rows were added into the table, which were 20301 rows. The result of this query is 20300, which is right because the header was ignored when inserting the data.\n",
    "\n",
    "The second query used was the following:\n",
    "\n",
    "```USE mit;\n",
    "SELECT * FROM mrts\n",
    "WHERE  status = \"NaN\";\n",
    "```\n",
    "This query was used to check if the NaN values of Sales were correctly inserted as NULL, which was shown in the workbench.\n",
    "\n",
    "These queries can be checked in the route */SQL Queries/3.1/*"
   ]
  },
  {
   "cell_type": "markdown",
   "metadata": {},
   "source": [
    "[Back to top](#Index)\n",
    "\n",
    "### 3.2 Running Queries From Python\n",
    "\n",
    "Describe how you tested the previous *queries* on the the MRTS dataset using a Python script and the Terminal window. "
   ]
  },
  {
   "cell_type": "markdown",
   "metadata": {},
   "source": [
    "The queries were tested using the *mysql.connector* library. Then, the queries were run in the terminal with the python command.\n",
    "\n",
    "They were successful as they gave the same results as the SQL ones in the workbench.\n",
    "\n",
    "The queries were the following ones: \n",
    "\n",
    "```import mysql.connector\n",
    "\n",
    "  \n",
    "# Connecting with MySql\n",
    "con = mysql.connector.connect(user='root', password='1234', host='localhost', database='mit')\n",
    "\t\n",
    "# Using cursor() method to create cursor object\n",
    "cursor = con.cursor()\n",
    "\n",
    "sql = (\"\"\"\n",
    "SELECT * FROM mrts\n",
    "WHERE  status = \"NaN\";\n",
    "\"\"\")\n",
    "cursor.execute(sql)\n",
    "for row in cursor.fetchall():\n",
    "    print(row)\n",
    "\n",
    "cursor.close()\n",
    "con.close()\n",
    "\n",
    "----------------------------\n",
    "\n",
    "import mysql.connector\n",
    "\n",
    "  \n",
    "# Connecting with MySql\n",
    "con = mysql.connector.connect(user='root', password='1234', host='localhost', database='mit')\n",
    "\t\n",
    "# Using cursor() method to create cursor object\n",
    "cursor = con.cursor()\n",
    "\n",
    "sql = (\"\"\"\n",
    "SELECT COUNT(*)\n",
    "FROM mrts;\n",
    "\"\"\")\n",
    "cursor.execute(sql)\n",
    "for row in cursor.fetchall():\n",
    "    print(row)\n",
    "\n",
    "cursor.close()\n",
    "con.close()\n",
    "```\n",
    "\n",
    "The queries can be found in the route */Python Queries/3.2/*"
   ]
  },
  {
   "cell_type": "markdown",
   "metadata": {},
   "source": [
    "[Back to top](#Index)\n",
    "\n",
    "### 3.3 Explore Trends\n",
    "\n",
    "Describe which *queries* you wrote the explore the differences in trends between various categories in your data.\n",
    "\n",
    "In your submission make sure to answer the following:\n",
    "\n",
    "- What is an economic trend and why is it considered an important measure to predict quantities, like spending patterns?\n",
    "- What is the trend of the retail and food services categories? Can this data be displayed clearly or do you need to adjust some parameters to reduce extraneous details and be able to visualize a clean trend?\n",
    "- When comparing businesses like bookstores, sporting goods stores, and hobbies, toys, and games stores, what is the highest trend of all of these options? Which one grew faster? Which one is higher? Is there a seasonal pattern? Were there any changes in 2020? Which is better, monthly or yearly? "
   ]
  },
  {
   "cell_type": "markdown",
   "metadata": {},
   "source": [
    "a) The following definition can be found in this [article](https://www.bartleby.com/subject/business/concepts/economic-trends):\n",
    ">An economic trend is the long-term direction of an economy. The trend can go up, down, or sideways. An upward trend means the economy is growing and wages are rising. A downward trend means the economy is shrinking and unemployment is increasing. A sideways trend means the economy is neither growing nor shrinking.\n",
    "\n",
    "b) To get the data plotted for this question, the next code was used:\n",
    "\n",
    "```\n",
    "import mysql.connector\n",
    "import matplotlib.pyplot as plt\n",
    "  \n",
    "# Connecting with MySql\n",
    "con = mysql.connector.connect(user='root', password='1234', host='localhost', database='mit')\n",
    "\t\n",
    "# Using cursor() method to create cursor object\n",
    "cursor = con.cursor()\n",
    "\n",
    "# The query is written\n",
    "sql = (\"\"\"SELECT date, SUM(sales) FROM mrts\n",
    "WHERE id = \"722\" AND date like \"%-01-%\"\n",
    "GROUP BY date;\"\"\")\n",
    "cursor.execute(sql)\n",
    "\n",
    "# The information brought by the query is fetched into the following variables:\n",
    "year1 = []\n",
    "sales1 = []\n",
    "for row in cursor.fetchall():\n",
    "    year1.append(row[0])\n",
    "    sales1.append(row[1])\n",
    "\n",
    "# The query is written\n",
    "sql = (\"\"\"SELECT date, SUM(sales) FROM mrts\n",
    "WHERE id_group = \"452\" AND date LIKE \"%-01-%\"\n",
    "GROUP BY date\"\"\")\n",
    "cursor.execute(sql)\n",
    "\n",
    "# The information brought by the query is fetched into the following variables:\n",
    "year2 = []\n",
    "sales2 = []\n",
    "for row in cursor.fetchall():\n",
    "    year2.append(row[0])\n",
    "    sales2.append(row[1])\n",
    "\n",
    "cursor.close()\n",
    "con.close()\n",
    "\n",
    "# A graph showing the data is plotted.\n",
    "plt.plot(year1, sales1, label=\"Food Services\")\n",
    "plt.plot(year2, sales2, label=\"Retail Services\")\n",
    "\n",
    "plt.xlabel('Year')\n",
    "plt.ylabel('Sales in Millions of Dollars')\n",
    "plt.title(\"Food Services vs Retail Services Trends\")\n",
    "\n",
    "\n",
    "plt.legend()\n",
    "\n",
    "plt.show()\n",
    "```\n",
    "\n",
    "Resulting in the next image: \n",
    "![hi](/assets/images/figure_1.png)"
   ]
  },
  {
   "cell_type": "markdown",
   "metadata": {},
   "source": [
    "[Back to top](#Index)\n",
    "\n",
    "### 3.4 Explore Percentage Change\n",
    "\n",
    "Describe which *queries* you wrote to explore the differences in trends between various categories in your data.\n",
    "\n",
    "In your submission make sure to answer the following:\n",
    "\n",
    "- In economics, what is the percentage change and why is it considered an important measure to predict quantities like spending patterns?\n",
    "- Consider the women's clothing and men's clothing businesses and their percentage change. How are these two businesses related? For each of the two businesses, what is the percentage of contribution to the whole and how does it change over time?"
   ]
  },
  {
   "cell_type": "markdown",
   "metadata": {},
   "source": [
    "[Back to top](#Index)\n",
    "\n",
    "### 3.5 Explore Rolling Time Windows\n",
    "\n",
    "\n",
    "Describe which *queries* you wrote to explore the differences in trends between various categories in your data.\n",
    "\n",
    "In your submission, make sure to answer the following:\n",
    "\n",
    "- In economics, what is the rolling time window and why is it considered an important measure to predict quantities like spending patterns?\n",
    "- Consider at least two businesses of your own from the MRTS data. Which *queries* did you write to analyze and produce graphs of rolling time windows for the chosen categories?"
   ]
  },
  {
   "cell_type": "markdown",
   "metadata": {},
   "source": [
    "[Back to top](#Index)\n",
    "\n",
    "## Conclusion\n",
    "\n",
    "Describe your conclusions. Which one of the businesses considered seems like it's going to attract the least spending? Which business seems likely to attract the most spending? \n",
    "\n",
    "\n"
   ]
  },
  {
   "cell_type": "markdown",
   "metadata": {},
   "source": [
    "\n",
    "[Back to top](#Index\n",
    ")\n",
    "## References\n",
    "\n",
    "Add all references you used to complete this project.\n",
    "\n",
    "Use this format for articles:\n",
    "- Author Last Name, Author First Name. “Article Title.” Journal Title Volume #, no. Issue # (year): page range.\n",
    "\n",
    "- Ex: Doe, John. “Data Engineering.” Data Engineering Journal 18, no. 4 (2021): 12-18.\n",
    "\n",
    "Use this format for websites:\n",
    "- Author Last Name, Author First Name. “Title of Web Page.” Name of Website. Publishing organization, publication or revision date if available. Access date if no other date is available. URL .\n",
    "\n",
    "- Doe, John. “Data Engineering.” Data Engineer Resource. Cengage, 2021. www.dataengineerresource.com .\n"
   ]
  },
  {
   "cell_type": "code",
   "execution_count": null,
   "metadata": {},
   "outputs": [],
   "source": []
  }
 ],
 "metadata": {
  "kernelspec": {
   "display_name": "Python 3 (ipykernel)",
   "language": "python",
   "name": "python3"
  },
  "language_info": {
   "codemirror_mode": {
    "name": "ipython",
    "version": 3
   },
   "file_extension": ".py",
   "mimetype": "text/x-python",
   "name": "python",
   "nbconvert_exporter": "python",
   "pygments_lexer": "ipython3",
   "version": "3.11.5"
  }
 },
 "nbformat": 4,
 "nbformat_minor": 4
}
